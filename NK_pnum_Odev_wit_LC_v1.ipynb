{
 "cells": [
  {
   "cell_type": "code",
   "execution_count": null,
   "metadata": {},
   "outputs": [],
   "source": [
    "def prime_number_finder (x):\n",
    "\n",
    "    check=bool\n",
    "\n",
    "    if x > 9 :# if the number larger 9 and cannot divide 3,5,7 or 9, it is a prime number \n",
    "              #\n",
    "        if (x % 2 != 0) and (x % 3 != 0) and (x % 5 != 0) and (x % 7 != 0) and (x % 9 != 0):\n",
    "\n",
    "            check= True \n",
    "                \n",
    "        else:\n",
    "\n",
    "            check= False\n",
    "        \n",
    "    elif x > 2 : # if the number smaller than 10 and larger than 2 \n",
    "        \n",
    "        for i in range(2, x):\n",
    "\n",
    "            if (x % i) == 0:\n",
    "                \n",
    "                check= False \n",
    "                \n",
    "                break# when we find a non prime number, break the loop\n",
    "\n",
    "            else:  \n",
    "                check= True\n",
    "                \n",
    "    return check"
   ]
  },
  {
   "cell_type": "code",
   "execution_count": null,
   "metadata": {},
   "outputs": [],
   "source": [
    "input_list = []\n",
    "counter = 0\n",
    "        \n",
    "while counter < 20:\n",
    "    user_input = input (\"please enter a number: \")\n",
    "    \n",
    "    while not user_input.isdigit():\n",
    "        user_input = input(\"invalid entry, please enter a number: \")\n",
    "        \n",
    "    int_user_input = int(user_input) # converts the entry to integer\n",
    "    \n",
    "    if int_user_input == 0:\n",
    "        print(\"you terminated the process\")\n",
    "        #counter = 21 # in order to terminate the process \n",
    "        break\n",
    "        \n",
    "    elif int_user_input <= 2:\n",
    "        print(\"please enter a number bigger than 2\")\n",
    "    \n",
    "    else:\n",
    "        counter += 1\n",
    "        input_list.append(int_user_input) #appends the inputs to the list\n",
    "        \n",
    "        if counter == 20:#\n",
    "            print(\"you can enter only 20 numbers\") # warns the user about the max entry  \n",
    "            break\n",
    "            \n",
    "prime_numbers = [x for x in input_list if prime_number_finder(x)] # check the input list if the numbers are prime or not\n",
    "prime_numbers = list(set(prime_numbers))#eliminate the duplications\n",
    "prime_numbers.sort()   #sort out the list for a bettter visualition\n",
    "\n",
    "if len(prime_numbers)==0: \n",
    "\n",
    "    print (\"unfortunately there is no prime number in your list\")\n",
    "    \n",
    "else:\n",
    "    \n",
    "    print(\"here is the prime numbers\", prime_numbers)"
   ]
  },
  {
   "cell_type": "code",
   "execution_count": null,
   "metadata": {},
   "outputs": [],
   "source": []
  }
 ],
 "metadata": {
  "kernelspec": {
   "display_name": "Python 3",
   "language": "python",
   "name": "python3"
  },
  "language_info": {
   "codemirror_mode": {
    "name": "ipython",
    "version": 3
   },
   "file_extension": ".py",
   "mimetype": "text/x-python",
   "name": "python",
   "nbconvert_exporter": "python",
   "pygments_lexer": "ipython3",
   "version": "3.6.5"
  }
 },
 "nbformat": 4,
 "nbformat_minor": 2
}
